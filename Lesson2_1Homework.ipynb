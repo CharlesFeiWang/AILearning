{
 "cells": [
  {
   "cell_type": "markdown",
   "metadata": {},
   "source": [
    "## 一：矩阵的导数\n",
    "\n",
    "$a$和$b$是列向量，$X$是矩阵，$x$是向量\n",
    "\n",
    "求解下列导数\n",
    "- $\\frac{\\partial x^Tb}{\\partial x}$\n",
    "\n",
    "\n",
    "\n",
    "- $\\frac{\\partial a^T X b}{\\partial X}$\n",
    "\n",
    "\n",
    "\n",
    "- $\\frac{\\partial (Xb+c)D(Xb+c)}{\\partial X}$"
   ]
  },
  {
   "cell_type": "markdown",
   "metadata": {},
   "source": [
    "解题:\n",
    "-  $\\frac{\\partial x^Tb}{\\partial x} $ \\\n",
    "    解:$x^T = [x_1,x_2,x_3,...,x_n]^T$\\\n",
    "      $b = [b_1,b_2,b_3,...,b_n]^T$\\\n",
    "     则:$x^Tb = x_1b_1+x_2b_2+x_3b_3+...x_nb_n$\\\n",
    "     得:$\\frac{\\partial x^Tb}{\\partial x} = \\frac {\\partial ( x_1b_1+x_2b_2+x_3b_3+...x_nb_n)}{\\partial [x_1,x_2,x_3,...,x_n]^T} = [b_1,b_1,b_1,...,b_n]^T = b^T$\n"
   ]
  },
  {
   "cell_type": "markdown",
   "metadata": {},
   "source": [
    "-   $\\frac{\\partial a^TXb}{\\partial X}$\\\n",
    "    解：$a = [a_1,a_2,a_3,...,a_n]^T$\\\n",
    "    $b = [b_1,b_2,b_3,...,b_n]^T$\\\n",
    "    $X = \n",
    "    \\left[\\begin{matrix}\n",
    "    x_{11} & x_{12} & ... & x_{1n}\\\\\n",
    "    x_{21} & x_{22} & ... & x_{2n} \\\\\n",
    "    ... & ... & ... & ...\\\\\n",
    "    x_{n1} & x_{n2} & ... & x_{nn}\n",
    "    \\end{matrix}\\right] $\\\n",
    "    那么：$\\frac{\\partial a^TXb}{\\partial X} = \\frac{\\partial a^TXb}{\\partial      \\left[\\begin{matrix}\n",
    "    x_{11} & x_{12} & ... & x_{1n}\\\\\n",
    "    x_{21} & x_{22} & ... & x_{2n} \\\\\n",
    "    ... & ... & ... & ...\\\\\n",
    "    x_{n1} & x_{n2} & ... & x_{nn}\n",
    "    \\end{matrix}\\right]} = \n",
    "    \\left[\\begin{matrix}\n",
    "    \\frac{\\partial a^TXb}{\\partial x_{11}} &\n",
    "    \\frac{\\partial a^TXb}{\\partial x_{12}} & \n",
    "     ... & \n",
    "     \\frac{\\partial a^TXb}{\\partial x_{1n}}\\\\\n",
    "    \\frac{\\partial a^TXb}{\\partial x_{21}} &\n",
    "    \\frac{\\partial a^TXb}{\\partial x_{22}} & \n",
    "     ... & \n",
    "     \\frac{\\partial a^TXb}{\\partial x_{2n}}\\\\\n",
    "    ... & ... & ... & ...\\\\\n",
    "    \\frac{\\partial a^TXb}{\\partial x_{n1}} &\n",
    "    \\frac{\\partial a^TXb}{\\partial x_{n2}} & \n",
    "     ... & \n",
    "     \\frac{\\partial a^TXb}{\\partial x_{nn}}\\\\\n",
    "    \\end{matrix}\\right] = \n",
    "    \\left[\\begin{matrix}\n",
    "    a_1b_1 & a_1b_2 & ... & a_1b_n\\\\\n",
    "    a2b_1 & a2b_2& ... & a2b_n\\\\\n",
    "    ... & ... & ... & ...\\\\\n",
    "    a_nb_1 & a_nb_2 & ... & a_nb_n\n",
    "    \\end{matrix}\\right] = ab^T$"
   ]
  },
  {
   "cell_type": "markdown",
   "metadata": {},
   "source": [
    "- $\\frac{\\partial (Xb+c)D(Xb+c)}{\\partial X}$\\\n",
    "令： $Y = Xb+c$\\\n",
    "则原式 =  $\\frac{\\partial Y^TDY}{\\partial X} = \\frac{\\partial Y^TDY}{\\partial Y}·\\frac{\\partial Y}{\\partial X} = (D^T+D)(Xb+c)\\frac {\\partial (Xb+c)}{\\partial X} = (D^T+D)(Xb+c)b^T$\n"
   ]
  },
  {
   "cell_type": "markdown",
   "metadata": {},
   "source": [
    "# 二：迹的导数\n",
    "定义：方阵$X$的迹（trace）的定义为矩阵对角线上元素之和，\n",
    "我们有\n",
    "$tr(X) = \\sum_i X_{ii} $。\n",
    "\n",
    "试求解下列导数\n",
    "- $\\frac{\\partial tr(X)}{\\partial X}$\n",
    "\n",
    "\n",
    "- $\\frac{\\partial tr(XA)}{\\partial X}$"
   ]
  },
  {
   "cell_type": "markdown",
   "metadata": {},
   "source": [
    "解题：\\\n",
    "- $\\frac {\\partial tr(X)}{\\partial X}= $\n",
    "$ \n",
    "\\left[\\begin{matrix}\n",
    "    \\frac {\\sum_i X_{ii}}{X_{11}} & \\frac {\\sum_i X_{ii}}{X_{12}} & ... & \\frac {\\sum_i X_{ii}}{X_{1n}}\\\\\n",
    "    \\frac {\\sum_i X_{ii}}{X_{21}} & \\frac {\\sum_i X_{ii}}{X_{22}} & ... & \\frac {\\sum_i X_{ii}}{X_{2n}}\\\\\n",
    "    ... & ... & ... & ...\\\\\n",
    "    \\frac {\\sum_i X_{ii}}{X_{n1}} & \\frac {\\sum_i X_{ii}}{X_{n2}} & ... & \\frac {\\sum_i X_{ii}}{X_{nn}}\\\\\n",
    "    \\end{matrix}\\right] = I$"
   ]
  },
  {
   "cell_type": "markdown",
   "metadata": {},
   "source": [
    "- $\\frac {\\partial tr(XA)}{\\partial X}= $\n",
    "$ \\frac {\\sum_{ij}x_{ij}a_{ji}}{\\partial X} = A^T\n",
    "$"
   ]
  }
 ],
 "metadata": {
  "kernelspec": {
   "display_name": "Python 3",
   "language": "python",
   "name": "python3"
  },
  "language_info": {
   "codemirror_mode": {
    "name": "ipython",
    "version": 3
   },
   "file_extension": ".py",
   "mimetype": "text/x-python",
   "name": "python",
   "nbconvert_exporter": "python",
   "pygments_lexer": "ipython3",
   "version": "3.7.3"
  }
 },
 "nbformat": 4,
 "nbformat_minor": 2
}
