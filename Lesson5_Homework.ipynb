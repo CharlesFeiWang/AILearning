{
 "cells": [
  {
   "cell_type": "markdown",
   "metadata": {},
   "source": [
    "## 1、完成ATM的类实现\n",
    "将第二次课程的ATM机器改写成类实现"
   ]
  },
  {
   "cell_type": "code",
   "execution_count": 23,
   "metadata": {},
   "outputs": [
    {
     "name": "stdout",
     "output_type": "stream",
     "text": [
      "\n",
      "===========\n",
      "请选择操作\n",
      "1.查询余额\n",
      "2.存款\n",
      "3.取款\n",
      "4.退出\n",
      "============\n",
      "4\n"
     ]
    }
   ],
   "source": [
    "class ATM:\n",
    "    \"\"\"\n",
    "    ATM类\n",
    "    \n",
    "    属性：cash（int）operator(int)\n",
    "    方法：1.操作 2.查询 3.存取 4.取钱 5.退出\n",
    "    \"\"\"\n",
    "    # 初始化cash = 0， operator = 0\n",
    "    def __init__(self, cash = 0, operator = 0):\n",
    "        self.cash = cash\n",
    "        self.operator = operator        \n",
    "    \n",
    "    def operate(self):\n",
    "        while self.operator != 4:\n",
    "            try:\n",
    "                self.operator = int(input('''\n",
    "===========\n",
    "请选择操作\n",
    "1.查询余额\n",
    "2.存款\n",
    "3.取款\n",
    "4.退出\n",
    "============\\n'''))\n",
    "\n",
    "                if self.operator == 1:\n",
    "                    print('余额为：',self.cash)\n",
    "                elif self.operator == 2:\n",
    "                    self.saveMoney()\n",
    "                elif self.operator == 3:\n",
    "                    self.drawOut()\n",
    "                elif self.operator != 4:\n",
    "                    print('你输入的操作有误，请重新输入')\n",
    "            except Exception:\n",
    "                print('请输入正确的操作')\n",
    "    \n",
    "    # 存钱的方法\n",
    "    def saveMoney(self):\n",
    "        save = int(input('请输入要存款的金额'))\n",
    "        self.cash += save\n",
    "        print('已经存入：', save, '元')\n",
    "    \n",
    "    #取钱的方法\n",
    "    def drawOut(self):\n",
    "        out = int(input('请输入要取走的金额'))\n",
    "        while(self.cash - out < 0):\n",
    "            print('你的余额不足，请重新输入取走的金额')\n",
    "            out = int(input('请输入要取走的金额'))\n",
    "        self.cash -= out\n",
    "        print('已经取走：', out, '元')\n",
    "        \n",
    "if __name__ == '__main__':\n",
    "    # 程序在入口时运行\n",
    "    myAtm = ATM()\n",
    "    myAtm.operate()"
   ]
  },
  {
   "cell_type": "markdown",
   "metadata": {},
   "source": [
    "# #练习会先提供一个李靖类，用以记录人物角色的战斗力。需要你创建一个子类哪吒类，提供属性和参数的修改。\n",
    "要求： 在哪吒的初始化方法中，默认添加['混天绫', '乾坤圈'] 两个装备,以及初始化战斗力为50."
   ]
  },
  {
   "cell_type": "code",
   "execution_count": 25,
   "metadata": {},
   "outputs": [
    {
     "name": "stdout",
     "output_type": "stream",
     "text": [
      "[]\n",
      "['混天绫', '乾坤圈']\n",
      "['七宝玲珑塔']\n",
      "60\n",
      "['混天绫', '乾坤圈', '火尖枪']\n",
      "90\n"
     ]
    }
   ],
   "source": [
    "class Lijing: # 李靖\n",
    "    # 初始化函数，为每个实例创建4个参数（其中后3个参数有默认值）\n",
    "    def __init__(self, name, weapons=[], power=10): \n",
    "        self.name = name\n",
    "        self.weapons = weapons\n",
    "        self.power = power\n",
    "\n",
    "    def count_fight(self, weapon, weapon_power):\n",
    "        self.weapons.append(weapon)\n",
    "        self.power += weapon_power  # 总战力=武器战力之和\n",
    "        \n",
    "# your code here        \n",
    "# 请你完成子类的定制（包括初始化方法和count_fight函数）\n",
    "class Nezha(Lijing): # 哪吒\n",
    "    def __init__(self,name = '哪吒', weapons = ['混天绫','乾坤圈'],power = 50):\n",
    "        self.name = name\n",
    "        self.weapons = weapons\n",
    "        self.power = power\n",
    "        \n",
    "    def conunt_fight(self, weapon, weapon_power):\n",
    "        if weapon not in self.weapons:\n",
    "            self.weapons.append()\n",
    "            self.power += weapon_power\n",
    "    \n",
    "# 通过两个实例，完成子类和父类的对比（可自行验证）\n",
    "lijing = Lijing('李靖')\n",
    "nezha = Nezha('哪吒')\n",
    "print(lijing.weapons)\n",
    "print(nezha.weapons)\n",
    "lijing.count_fight('七宝玲珑塔', 50)  # 七宝玲珑塔 战力 50\n",
    "print(lijing.weapons)\n",
    "print(lijing.power)\n",
    "nezha.count_fight('火尖枪', 40)  #\n",
    "print(nezha.weapons)\n",
    "print(nezha.power)"
   ]
  }
 ],
 "metadata": {
  "kernelspec": {
   "display_name": "Python 3",
   "language": "python",
   "name": "python3"
  },
  "language_info": {
   "codemirror_mode": {
    "name": "ipython",
    "version": 3
   },
   "file_extension": ".py",
   "mimetype": "text/x-python",
   "name": "python",
   "nbconvert_exporter": "python",
   "pygments_lexer": "ipython3",
   "version": "3.7.3"
  }
 },
 "nbformat": 4,
 "nbformat_minor": 2
}
